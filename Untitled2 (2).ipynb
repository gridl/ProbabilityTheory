{
 "cells": [
  {
   "cell_type": "markdown",
   "metadata": {},
   "source": [
    "|$X$ $=$ $\\\\xi$        | $\\\\x1$ | $\\\\x2$ | $\\\\x3$ |  ...  | $\\\\xn$ | $Sum$ |\n",
    "|:-------------------- |--------|--------|--------|-------|--------|-------|\n",
    "|$p$$($$X$ $=$$\\\\xi$$)$| $\\\\p1$ | $\\\\p2$ | $\\\\p3$ |  ...  | $\\\\pn$ |   1   |"
   ]
  },
  {
   "cell_type": "markdown",
   "metadata": {
    "collapsed": true
   },
   "source": [
    "\\begin{equation} \\label{eq1}\n",
    "\\begin{split}\n",
    "A & = \\frac{\\pi r^2}{2} \\\\\n",
    " & = \\frac{1}{2} \\pi r^2\n",
    "\\end{split}\n",
    "\\end{equation}"
   ]
  },
  {
   "cell_type": "markdown",
   "metadata": {},
   "source": [
    "\\begin{equation} \\label{eq1}\n",
    "\\begin{split}\n",
    "A & = \\frac{\\pi r^2}{2} \\\\\n",
    " & = \\frac{1}{2} \\pi r^2\n",
    "\\end{split}\n",
    "\\end{equation}"
   ]
  },
  {
   "cell_type": "markdown",
   "metadata": {},
   "source": [
    "\\begin{equation} \\label{eq1}\n",
    "\\begin{split}\n",
    "A & = \\frac{\\pi r^2}{2} \\\\\n",
    " & = \\frac{1}{2} \\pi r^2\n",
    "\\end{split}\n",
    "\\end{equation}"
   ]
  },
  {
   "cell_type": "markdown",
   "metadata": {},
   "source": [
    "\\begin{equation} \\label{eq1}\n",
    "\\begin{split}\n",
    "E(X) & = \\sum_{i=1}^n(x_i)\\times(p(x_i)) \\\\\n",
    " & = 0 \\times p(x_1) + 1 \\times p(x_2) + 2 \\times p(x_3) \\\\\n",
    " & = p(x_2) + 2 \\times p(x_3)\n",
    "\\end{split}\n",
    "\\end{equation}"
   ]
  },
  {
   "cell_type": "markdown",
   "metadata": {},
   "source": [
    "\\begin{equation} \\label{eq1}\n",
    "\\begin{split}\n",
    "E(X) & = \\sum_{i=1}^n(x_i)\\times(p(x_i)) \\\\\\\\\n",
    " & = 0 \\times p(x_1) + 1 \\times p(x_2) + 2 \\times p(x_3) \\\\\\\\\n",
    " & = p(x_2) + 2 \\times p(x_3) \\\\\\\n",
    "V(X) & = E(X^2) - (E(X))^2 \\\\\\\\\n",
    " & = 0^2 \\times p(x_1) + 1^2 \\times p(x_2) + 2^2 \\times p(x_3) - (p(x_2) + 2 \\times p(x_3))^2 \\\\\\\\\n",
    " & = p(x_2) + 2^2 \\times p(x_3) - 1\n",
    "\\end{split}\n",
    "\\end{equation}"
   ]
  },
  {
   "cell_type": "code",
   "execution_count": null,
   "metadata": {
    "collapsed": true
   },
   "outputs": [],
   "source": []
  }
 ],
 "metadata": {
  "kernelspec": {
   "display_name": "Python 3",
   "language": "python",
   "name": "python3"
  },
  "language_info": {
   "codemirror_mode": {
    "name": "ipython",
    "version": 3
   },
   "file_extension": ".py",
   "mimetype": "text/x-python",
   "name": "python",
   "nbconvert_exporter": "python",
   "pygments_lexer": "ipython3",
   "version": "3.6.3"
  }
 },
 "nbformat": 4,
 "nbformat_minor": 2
}
