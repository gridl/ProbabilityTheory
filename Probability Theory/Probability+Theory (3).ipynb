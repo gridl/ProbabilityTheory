{
 "cells": [
  {
   "cell_type": "markdown",
   "metadata": {},
   "source": [
    "# Probability Theory"
   ]
  },
  {
   "cell_type": "markdown",
   "metadata": {},
   "source": [
    "This first chapter of the course is a concrete Introduction to Probability Theory."
   ]
  },
  {
   "cell_type": "markdown",
   "metadata": {},
   "source": [
    "> \"Probability theory is nothing but common sense reduced to calculation.\" - [**Pierre-Simon Laplace **](https://en.wikipedia.org/wiki/Pierre-Simon_Laplace) "
   ]
  },
  {
   "cell_type": "markdown",
   "metadata": {},
   "source": [
    "![](https://upload.wikimedia.org/wikipedia/commons/thumb/b/bf/Pierre-Simon%2C_marquis_de_Laplace_%281745-1827%29_-_Gu%C3%A9rin.jpg/225px-Pierre-Simon%2C_marquis_de_Laplace_%281745-1827%29_-_Gu%C3%A9rin.jpg)\n"
   ]
  },
  {
   "cell_type": "markdown",
   "metadata": {},
   "source": [
    "### Content:"
   ]
  },
  {
   "cell_type": "markdown",
   "metadata": {},
   "source": [
    "#### One-Dimensional random variables\n",
    "- **1.Discret Random Variables**:\n",
    "  - Probability Distribution\n",
    "<br><br>\n",
    "- **2.Cumulative Distribution Function**:\n",
    "<br><br>\n",
    "- **3.Dispersion parameters**:\n",
    "  - The Expected Value\n",
    "<br><br>\n",
    "  - Moments\n",
    "<br><br>\n",
    "  - Variance\n",
    "<br><br>\n",
    "  - Standard Deviation\n"
   ]
  },
  {
   "cell_type": "markdown",
   "metadata": {},
   "source": [
    "### Note:"
   ]
  },
  {
   "cell_type": "markdown",
   "metadata": {},
   "source": [
    "This first chapter of the course is aimed at beginners, Mathematics enthusiasts and those who are fascinated by Probability Theory and its ability to quantify uncertainty.     \n",
    "In this chapter we solely discussed Probability theory from a discret random variable perspective , the aim was to make the   reader's feet wet into this Mathematical field before diving into more complexe and Math intensive parts of the course.  \n",
    "Happy learning!"
   ]
  },
  {
   "cell_type": "markdown",
   "metadata": {},
   "source": [
    "## One-Dimensional Random Variables"
   ]
  },
  {
   "cell_type": "markdown",
   "metadata": {},
   "source": [
    "### Definition of a Random Variable:"
   ]
  },
  {
   "cell_type": "markdown",
   "metadata": {},
   "source": [
    "A [**random variable**](https://en.wikipedia.org/wiki/Random_variable)  is a variable that is subject to random variations so that it can take on multiple different values, each with an associated probability."
   ]
  },
  {
   "cell_type": "markdown",
   "metadata": {},
   "source": [
    "### 1. Discrete Random Variables:"
   ]
  },
  {
   "cell_type": "markdown",
   "metadata": {},
   "source": [
    "#### Definition:"
   ]
  },
  {
   "cell_type": "markdown",
   "metadata": {},
   "source": [
    "A **Discrete** **random** **variable** is a random variable which takes punctual , isolated and countable values."
   ]
  },
  {
   "cell_type": "markdown",
   "metadata": {},
   "source": [
    "#### Probability Distribution:"
   ]
  },
  {
   "cell_type": "markdown",
   "metadata": {},
   "source": [
    "- A [**probability distribution**](https://en.wikipedia.org/wiki/Probability_distribution) is a table or an equation that links each outcome of a statistical experiment with its probability of occurrence."
   ]
  },
  {
   "cell_type": "markdown",
   "metadata": {},
   "source": [
    "- **Equation**:"
   ]
  },
  {
   "cell_type": "markdown",
   "metadata": {},
   "source": [
    "$$p(X = x_i) = p(x_i)$$"
   ]
  },
  {
   "cell_type": "markdown",
   "metadata": {},
   "source": [
    "> - With :\n",
    "    <br><br>\n",
    "    - $X$: Random variable\n",
    "    <br><br>\n",
    "    - $x$: Value of the random variable $X$\n",
    "    <br><br>\n",
    "    - $p(x)$: probability of occurence of the random variable $X$\n",
    "    "
   ]
  },
  {
   "cell_type": "markdown",
   "metadata": {},
   "source": [
    "- **Table**:\n",
    "\n"
   ]
  },
  {
   "cell_type": "markdown",
   "metadata": {},
   "source": [
    "> | $X$ $=$ $x_i$        |  $x_1$  |  $x_2$  |  ...  |  $x_n$  | Sum |\n",
    "| -----------  |-----|-----|-----|-----|-----|\n",
    "| $P(X = x_i)$ | $p_1$ | $p_2$ | ... |  $p_n$  |  1  |"
   ]
  },
  {
   "cell_type": "markdown",
   "metadata": {},
   "source": [
    "> - **Remark**: \n",
    "    <br><br>\n",
    "    The Sum of the probabilities of occurence of all values $x_i$ of the random variable $X$ equals strictly to $1$.\n",
    "    <br><br>\n",
    "    $$\\sum_{i=1}^{n} p(x_i) = 1$$\n"
   ]
  },
  {
   "cell_type": "markdown",
   "metadata": {
    "collapsed": true
   },
   "source": [
    "- **Example**:"
   ]
  },
  {
   "cell_type": "markdown",
   "metadata": {},
   "source": [
    "Let $X$ represent the sum of two dice: $X = ${$2, 3, 4, 5, 6, 7, 8, 9, 10, 11, 12$}:     "
   ]
  },
  {
   "cell_type": "markdown",
   "metadata": {},
   "source": [
    "Then the **probability distribution** of $X$ is as follows:"
   ]
  },
  {
   "cell_type": "code",
   "execution_count": 1,
   "metadata": {},
   "outputs": [
    {
     "data": {
      "text/html": [
       "<div>\n",
       "<style>\n",
       "    .dataframe thead tr:only-child th {\n",
       "        text-align: right;\n",
       "    }\n",
       "\n",
       "    .dataframe thead th {\n",
       "        text-align: left;\n",
       "    }\n",
       "\n",
       "    .dataframe tbody tr th {\n",
       "        vertical-align: top;\n",
       "    }\n",
       "</style>\n",
       "<table border=\"1\" class=\"dataframe\">\n",
       "  <thead>\n",
       "    <tr style=\"text-align: right;\">\n",
       "      <th></th>\n",
       "      <th>xi</th>\n",
       "      <th>P(X = xi)</th>\n",
       "    </tr>\n",
       "  </thead>\n",
       "  <tbody>\n",
       "    <tr>\n",
       "      <th>0</th>\n",
       "      <td>2</td>\n",
       "      <td>0.027778</td>\n",
       "    </tr>\n",
       "    <tr>\n",
       "      <th>1</th>\n",
       "      <td>3</td>\n",
       "      <td>0.055556</td>\n",
       "    </tr>\n",
       "    <tr>\n",
       "      <th>2</th>\n",
       "      <td>4</td>\n",
       "      <td>0.083333</td>\n",
       "    </tr>\n",
       "    <tr>\n",
       "      <th>3</th>\n",
       "      <td>5</td>\n",
       "      <td>0.111111</td>\n",
       "    </tr>\n",
       "    <tr>\n",
       "      <th>4</th>\n",
       "      <td>6</td>\n",
       "      <td>0.138889</td>\n",
       "    </tr>\n",
       "    <tr>\n",
       "      <th>5</th>\n",
       "      <td>7</td>\n",
       "      <td>0.166667</td>\n",
       "    </tr>\n",
       "    <tr>\n",
       "      <th>6</th>\n",
       "      <td>8</td>\n",
       "      <td>0.138889</td>\n",
       "    </tr>\n",
       "    <tr>\n",
       "      <th>7</th>\n",
       "      <td>9</td>\n",
       "      <td>0.111111</td>\n",
       "    </tr>\n",
       "    <tr>\n",
       "      <th>8</th>\n",
       "      <td>10</td>\n",
       "      <td>0.083333</td>\n",
       "    </tr>\n",
       "    <tr>\n",
       "      <th>9</th>\n",
       "      <td>11</td>\n",
       "      <td>0.055556</td>\n",
       "    </tr>\n",
       "    <tr>\n",
       "      <th>10</th>\n",
       "      <td>12</td>\n",
       "      <td>0.027778</td>\n",
       "    </tr>\n",
       "  </tbody>\n",
       "</table>\n",
       "</div>"
      ],
      "text/plain": [
       "    xi  P(X = xi)\n",
       "0    2   0.027778\n",
       "1    3   0.055556\n",
       "2    4   0.083333\n",
       "3    5   0.111111\n",
       "4    6   0.138889\n",
       "5    7   0.166667\n",
       "6    8   0.138889\n",
       "7    9   0.111111\n",
       "8   10   0.083333\n",
       "9   11   0.055556\n",
       "10  12   0.027778"
      ]
     },
     "execution_count": 1,
     "metadata": {},
     "output_type": "execute_result"
    }
   ],
   "source": [
    "import pandas as pd\n",
    "data = pd.read_excel(\"Documents/Proba_Distr.xlsx\" , sheet_name=None)\n",
    "data"
   ]
  },
  {
   "cell_type": "markdown",
   "metadata": {},
   "source": [
    "- **Probability Bar Chart**:"
   ]
  },
  {
   "cell_type": "code",
   "execution_count": 2,
   "metadata": {},
   "outputs": [
    {
     "data": {
      "image/png": "[encoded data removed]",
      "text/plain": [
       "<matplotlib.figure.Figure at 0x92a3a20>"
      ]
     },
     "metadata": {},
     "output_type": "display_data"
    }
   ],
   "source": [
    "%matplotlib inline\n",
    "import matplotlib.pyplot as plt\n",
    "from matplotlib.pyplot import *\n",
    "x = [2, 3, 4, 5, 6, 7, 8, 9, 10, 11, 12]\n",
    "y = [0.027778, 0.055556, 0.083333, 0.111111, 0.138889,\n",
    "     0.166667, 0.138889, 0.111111, 0.083333, 0.055556, 0.027778]\n",
    "plt.bar(x,y,align='center')\n",
    "plt.axis([0,14,0,1])\n",
    "plt.grid(True)\n",
    "plt.xlabel(\"Variable\")\n",
    "plt.ylabel(\"Probability of Occurence\")\n",
    "plt.title(r\"$Probability$ $Bar$ $Chart$\")\n",
    "plt.show()"
   ]
  },
  {
   "cell_type": "markdown",
   "metadata": {},
   "source": [
    "### 2. Cumulative Distribution Function:"
   ]
  },
  {
   "cell_type": "markdown",
   "metadata": {
    "collapsed": true
   },
   "source": [
    "- **Definition**:"
   ]
  },
  {
   "cell_type": "markdown",
   "metadata": {},
   "source": [
    "The [**cumulative distribution function**](https://en.wikipedia.org/wiki/Cumulative_distribution_function) of a real-valued random variable $X$ is the probability that $X$ will take a value less than or equal to $x_i$."
   ]
  },
  {
   "cell_type": "markdown",
   "metadata": {},
   "source": [
    "- **Formula**:"
   ]
  },
  {
   "cell_type": "markdown",
   "metadata": {},
   "source": [
    "> $$F(x) = p(X \\leq x_i) =\\succ F(x_i) = p(x_1) + p(x_2) +...+ p(x_i) = \\sum_{i=1}^{n} p(x_i)$$\n",
    "<br><br>\n",
    "> Note that:\n",
    "<br><br>\n",
    "> $$F(x_i) - F(x_{i-1}) = p(x_i)$$\n",
    "<br><br>\n",
    ">Where:\n",
    "<br><br>\n",
    "> $$x_i \\leq x$$"
   ]
  },
  {
   "cell_type": "markdown",
   "metadata": {},
   "source": [
    "- **Graph**:"
   ]
  },
  {
   "cell_type": "markdown",
   "metadata": {},
   "source": [
    "> ![](https://upload.wikimedia.org/wikipedia/commons/thumb/7/77/Dis_Uniform_distribution_CDF.svg/280px-Dis_Uniform_distribution_CDF.svg.png)"
   ]
  },
  {
   "cell_type": "markdown",
   "metadata": {},
   "source": [
    "- **Properties**:"
   ]
  },
  {
   "cell_type": "markdown",
   "metadata": {},
   "source": [
    "> - $F(x)$ is continuous $;$\n",
    "<br><br>\n",
    "> - $F(x)$ is monotonic $;$\n",
    "<br><br>\n",
    "> - $F(x)$ is cumulative and non-decreasing $;$\n",
    "<br><br>\n",
    "> - When $n\\to+\\infty$ $F(x)\\to1$ $;$\n",
    "<br><br>\n",
    "> - When $n\\to-\\infty$ $F(x)\\to0$ $;$\n",
    "<br><br>\n",
    "> - $F(a)$ $=$ $p(X \\leq a)$ $=$ $\\sum_{k=1}^{a} p(X = k)$ $;$"
   ]
  },
  {
   "cell_type": "markdown",
   "metadata": {},
   "source": [
    "- **Example**:"
   ]
  },
  {
   "cell_type": "markdown",
   "metadata": {
    "collapsed": true
   },
   "source": [
    "Let $X$ represent a die: $X = ${$1, 2, 3, 4, 5, 6$}:   "
   ]
  },
  {
   "cell_type": "markdown",
   "metadata": {},
   "source": [
    "Then the **probability distribution** of $X$ is as follows:"
   ]
  },
  {
   "cell_type": "code",
   "execution_count": 3,
   "metadata": {},
   "outputs": [
    {
     "data": {
      "text/html": [
       "<div>\n",
       "<style>\n",
       "    .dataframe thead tr:only-child th {\n",
       "        text-align: right;\n",
       "    }\n",
       "\n",
       "    .dataframe thead th {\n",
       "        text-align: left;\n",
       "    }\n",
       "\n",
       "    .dataframe tbody tr th {\n",
       "        vertical-align: top;\n",
       "    }\n",
       "</style>\n",
       "<table border=\"1\" class=\"dataframe\">\n",
       "  <thead>\n",
       "    <tr style=\"text-align: right;\">\n",
       "      <th></th>\n",
       "      <th>xi</th>\n",
       "      <th>P(X = xi)</th>\n",
       "    </tr>\n",
       "  </thead>\n",
       "  <tbody>\n",
       "    <tr>\n",
       "      <th>0</th>\n",
       "      <td>1</td>\n",
       "      <td>0.166667</td>\n",
       "    </tr>\n",
       "    <tr>\n",
       "      <th>1</th>\n",
       "      <td>2</td>\n",
       "      <td>0.166667</td>\n",
       "    </tr>\n",
       "    <tr>\n",
       "      <th>2</th>\n",
       "      <td>3</td>\n",
       "      <td>0.166667</td>\n",
       "    </tr>\n",
       "    <tr>\n",
       "      <th>3</th>\n",
       "      <td>4</td>\n",
       "      <td>0.166667</td>\n",
       "    </tr>\n",
       "    <tr>\n",
       "      <th>4</th>\n",
       "      <td>5</td>\n",
       "      <td>0.166667</td>\n",
       "    </tr>\n",
       "    <tr>\n",
       "      <th>5</th>\n",
       "      <td>6</td>\n",
       "      <td>0.166667</td>\n",
       "    </tr>\n",
       "  </tbody>\n",
       "</table>\n",
       "</div>"
      ],
      "text/plain": [
       "   xi  P(X = xi)\n",
       "0   1   0.166667\n",
       "1   2   0.166667\n",
       "2   3   0.166667\n",
       "3   4   0.166667\n",
       "4   5   0.166667\n",
       "5   6   0.166667"
      ]
     },
     "execution_count": 3,
     "metadata": {},
     "output_type": "execute_result"
    }
   ],
   "source": [
    "dt = pd.read_excel(\"Documents/Dice.xlsx\" , sheet_name=None)\n",
    "dt"
   ]
  },
  {
   "cell_type": "markdown",
   "metadata": {},
   "source": [
    "**Probability Bar Chart** of the die experiment:"
   ]
  },
  {
   "cell_type": "code",
   "execution_count": 4,
   "metadata": {},
   "outputs": [
    {
     "data": {
      "image/png": "[encoded data removed]",
      "text/plain": [
       "<matplotlib.figure.Figure at 0x9feec50>"
      ]
     },
     "metadata": {},
     "output_type": "display_data"
    }
   ],
   "source": [
    "x = [1, 2, 3, 4, 5, 6]\n",
    "y = [1/6, 1/6, 1/6, 1/6, 1/6, 1/6]\n",
    "plt.bar(x,y,color=\"green\",align='center')\n",
    "plt.axis([0,7,0,1])\n",
    "plt.grid(True)\n",
    "plt.xlabel(\"Variable\")\n",
    "plt.ylabel(\"Probability of Occurence\")\n",
    "plt.title(r\"$Probability$ $Bar$ $Chart$\")\n",
    "plt.show()"
   ]
  },
  {
   "cell_type": "markdown",
   "metadata": {},
   "source": [
    "**Cumulative Distribution Function** of the die:"
   ]
  },
  {
   "cell_type": "markdown",
   "metadata": {},
   "source": [
    "> - $F(x_1) = 1/6$\n",
    "<br><br>\n",
    "> - $F(x_2) = 2/6$\n",
    "<br><br>\n",
    "> - $F(x_3) = 3/6$\n",
    "<br><br>\n",
    "> - $F(x_4) = 4/6$\n",
    "<br><br>\n",
    "> - $F(x_5) = 5/6$\n",
    "<br><br>\n",
    "> - $F(x_6) = 6/6$"
   ]
  },
  {
   "cell_type": "code",
   "execution_count": 5,
   "metadata": {},
   "outputs": [
    {
     "data": {
      "text/plain": [
       "array([ 0.16666667,  0.33333333,  0.5       ,  0.66666667,  0.83333333,  1.        ])"
      ]
     },
     "execution_count": 5,
     "metadata": {},
     "output_type": "execute_result"
    }
   ],
   "source": [
    "# Calculation of F(Xi) using the numpy scientific library\n",
    "cdf = np.array([[1/6,1/6,1/6,1/6,1/6,1/6]]) \n",
    "np.cumsum(cdf)"
   ]
  },
  {
   "cell_type": "code",
   "execution_count": 6,
   "metadata": {},
   "outputs": [
    {
     "data": {
      "image/png": "[encoded data removed]",
      "text/plain": [
       "<matplotlib.figure.Figure at 0x9f7a8d0>"
      ]
     },
     "metadata": {},
     "output_type": "display_data"
    }
   ],
   "source": [
    "x = [1, 2, 3, 4, 5, 6]\n",
    "plt.hist(x, normed=True, cumulative=True, \n",
    "         label='CDF', histtype='step', color='red')\n",
    "plt.axis([1,6,0,1.2])\n",
    "plt.grid(False)\n",
    "plt.xlabel(\"Variable\")\n",
    "plt.ylabel(r\"$F(x)$\")\n",
    "plt.title(r\"$Cumulative$ $Distribution$ $Function$\")\n",
    "plt.show()"
   ]
  },
  {
   "cell_type": "markdown",
   "metadata": {},
   "source": [
    "### 3. Dispersion parameters:"
   ]
  },
  {
   "cell_type": "markdown",
   "metadata": {},
   "source": [
    "- **The Expected Value**:"
   ]
  },
  {
   "cell_type": "markdown",
   "metadata": {},
   "source": [
    "- ****Definition****:"
   ]
  },
  {
   "cell_type": "markdown",
   "metadata": {},
   "source": [
    "The [**expected value**](https://en.wikipedia.org/wiki/Expected_value) (or mean) of the random variable $X$ is a weighted average of the possible values that $X$ can take, each value being weighted according to the probability of occurence of that event."
   ]
  },
  {
   "cell_type": "markdown",
   "metadata": {},
   "source": [
    "- **Formula**:"
   ]
  },
  {
   "cell_type": "markdown",
   "metadata": {},
   "source": [
    "$$E(X) = \\sum_{i=1}^n(x_i)\\times(p(x_i))$$"
   ]
  },
  {
   "cell_type": "markdown",
   "metadata": {},
   "source": [
    "- **Example**:"
   ]
  },
  {
   "cell_type": "markdown",
   "metadata": {},
   "source": [
    "Let's take the earlier example of the die.\n"
   ]
  },
  {
   "cell_type": "markdown",
   "metadata": {},
   "source": [
    "The **expected value** of the experiment is:"
   ]
  },
  {
   "cell_type": "markdown",
   "metadata": {
    "collapsed": true
   },
   "source": [
    "> \\begin{align*}\n",
    "E(X)&= \\sum_{i=1}^n(x_i)\\times(p(x_i)) \\\\\\\\\n",
    "&= 1\\times(1/6) + 2\\times(1/6) + 3\\times(1/6) + 4\\times(1/6) + 5\\times(1/6) + 6\\times(1/6) \\\\\\\\\n",
    "&= 3.5 \\\\\\\\\n",
    "\\end{align*}\n"
   ]
  },
  {
   "cell_type": "code",
   "execution_count": 7,
   "metadata": {},
   "outputs": [
    {
     "data": {
      "text/plain": [
       "3.5"
      ]
     },
     "execution_count": 7,
     "metadata": {},
     "output_type": "execute_result"
    }
   ],
   "source": [
    "# Calculating the Expected value in a Pythonic way\n",
    "import numpy as np\n",
    "x = np.array([1, 2, 3, 4, 5, 6]) # The values of the random variable X\n",
    "y = np.array([0.166667, 0.166667, 0.166667,\n",
    "              0.166667, 0.166667, 0.166667]) # the probability of occurence of each value of te variable X\n",
    "np.average(x,weights = y)"
   ]
  },
  {
   "cell_type": "markdown",
   "metadata": {},
   "source": [
    "- **Properties**:"
   ]
  },
  {
   "cell_type": "markdown",
   "metadata": {},
   "source": [
    "> - If $a$ is a constant $E(X) = a$ $;$ \n",
    "<br><br>\n",
    "> - The expected value $E(X)$ is a linear operator : $E(aX + b) = a E(X) + b$ $;$\n",
    "<br><br>\n",
    "> - $E(X + Y) = E(X) + E(Y)$ and $E(X - Y) = E(X) - E(Y)$ $;$\n",
    "<br><br>\n",
    "> - $E(aX + bY) = aE(X) + bE(Y)$ and $E(aX - bY) = aE(X) - bE(Y)$ $;$"
   ]
  },
  {
   "cell_type": "markdown",
   "metadata": {},
   "source": [
    "- **Moments**:"
   ]
  },
  {
   "cell_type": "markdown",
   "metadata": {
    "collapsed": true
   },
   "source": [
    "- **Definition**:"
   ]
  },
  {
   "cell_type": "markdown",
   "metadata": {},
   "source": [
    "In probability theory and in statistics, the **order moment** of a real random variable $X$ is an indicator of the dispersion of this variable as for example of its type of deviation, the square root of the moment centered on order 2."
   ]
  },
  {
   "cell_type": "markdown",
   "metadata": {},
   "source": [
    "- **Formula**:\n",
    "    "
   ]
  },
  {
   "cell_type": "markdown",
   "metadata": {},
   "source": [
    "The **centered moments of $k$ order** are given as follows:"
   ]
  },
  {
   "cell_type": "markdown",
   "metadata": {},
   "source": [
    "$$\\mu_k = E(X^k) = \\sum_{i=1}^n(x_i - m)^k \\times (p(x_i)) = E(X - m)^k$$\n",
    "<br><br>\n",
    "Where:\n",
    "<br><br>\n",
    "$$m = E(X)$$"
   ]
  },
  {
   "cell_type": "markdown",
   "metadata": {},
   "source": [
    "- **Variance**:"
   ]
  },
  {
   "cell_type": "markdown",
   "metadata": {},
   "source": [
    "- **Definition**:"
   ]
  },
  {
   "cell_type": "markdown",
   "metadata": {},
   "source": [
    "In probability theory and statistics, [**variance**](https://en.wikipedia.org/wiki/Variance) is the expectation of the squared deviation of a random variable from its mean often represented by $V(X)$ or $σ^2$."
   ]
  },
  {
   "cell_type": "markdown",
   "metadata": {},
   "source": [
    "- **Formula**:"
   ]
  },
  {
   "cell_type": "markdown",
   "metadata": {},
   "source": [
    "The **variance** is no more than the centered moment of order 2:\n",
    "<br><br>\n",
    "$$\\sigma^2 = V(X) = \\sum_{i=1}^n(x_i - m)^2 \\times (p(x_i)) = E(X^2) - (E(X))^2$$\n",
    "<br><br>\n",
    "Where:\n",
    "<br><br>\n",
    "$$m = E(X)$$"
   ]
  },
  {
   "cell_type": "markdown",
   "metadata": {},
   "source": [
    "- **Example**:"
   ]
  },
  {
   "cell_type": "markdown",
   "metadata": {},
   "source": [
    "We stay in the same die experiment , its **variance** is as follows:"
   ]
  },
  {
   "cell_type": "markdown",
   "metadata": {},
   "source": [
    "We know that : $E(X) = 3.5$\n",
    "<br><br>    \n",
    "> \\begin{align*}\n",
    "V(X)&= \\sum_{i=1}^n(x_i - m)^2 \\times (p(x_i)) \\\\\\\\\n",
    "&= (1 - 3.5)^2 \\times 1/6 + (2 - 3.5)^2 \\times 1/6 + (3 - 3.5)^2 \\times 1/6 + (4 - 3.5)^2 \\times 1/6 + (5 - 3.5)^2 \\times 1/6 + (6 - 3.5)^2 \\times 1/6 \\\\\\\\\n",
    "&= 35/12\n",
    "\\end{align*}\n"
   ]
  },
  {
   "cell_type": "code",
   "execution_count": 9,
   "metadata": {},
   "outputs": [
    {
     "data": {
      "text/plain": [
       "2.916666666666667"
      ]
     },
     "execution_count": 9,
     "metadata": {},
     "output_type": "execute_result"
    }
   ],
   "source": [
    "def var(values, weights): # Return the weighted variance\n",
    "    \n",
    "    average = np.average(values, weights=weights)\n",
    "    variance = np.average((values-average)**2, weights=weights)\n",
    "    return variance\n",
    "\n",
    "x = np.array([1, 2, 3, 4, 5, 6]) # The values of the random variable X\n",
    "y = np.array([0.166667, 0.166667, 0.166667, \n",
    "              0.166667, 0.166667, 0.166667]) # the probability of occurence f each value of te variable X\n",
    "var(x,y)   "
   ]
  },
  {
   "cell_type": "markdown",
   "metadata": {},
   "source": [
    "- **Standard Deviation**:"
   ]
  },
  {
   "cell_type": "markdown",
   "metadata": {},
   "source": [
    "- **Definition**:"
   ]
  },
  {
   "cell_type": "markdown",
   "metadata": {},
   "source": [
    "The [**standard deviation**](https://en.wikipedia.org/wiki/Standard_deviation) is the indicator of dispersion of a random variable $X$."
   ]
  },
  {
   "cell_type": "markdown",
   "metadata": {},
   "source": [
    "- **Formula**:"
   ]
  },
  {
   "cell_type": "markdown",
   "metadata": {},
   "source": [
    "The **standard deviation** $σ_{(x)}$ is no more than the square root of the variance $V(X)$:\n",
    "<br><br>\n",
    "$$\\sigma_{(x)} = \\sqrt{V(X)}$$"
   ]
  },
  {
   "cell_type": "markdown",
   "metadata": {},
   "source": [
    "- **Example**:"
   ]
  },
  {
   "cell_type": "markdown",
   "metadata": {},
   "source": [
    "From the earlier example :\n",
    "$$\\sigma_{(x)} = \\sqrt{V(X)} = \\sqrt{35/12} \\approx 1.71$$"
   ]
  },
  {
   "cell_type": "code",
   "execution_count": 10,
   "metadata": {},
   "outputs": [
    {
     "data": {
      "text/plain": [
       "1.7078251276599332"
      ]
     },
     "execution_count": 10,
     "metadata": {},
     "output_type": "execute_result"
    }
   ],
   "source": [
    "# Calculating the Pythonic way\n",
    "import math\n",
    "def std(values, weights): # Return the standard deviation\n",
    "    average = np.average(values, weights=weights)\n",
    "    variance = np.average((values-average)**2, weights=weights)\n",
    "    return (math.sqrt(variance))\n",
    "\n",
    "x = np.array([1, 2, 3, 4, 5, 6]) # The values of the random variable X\n",
    "y = np.array([0.166667, 0.166667, 0.166667,\n",
    "              0.166667, 0.166667, 0.166667]) # the probability of occurence f each value of te variable X\n",
    "std(x,y) "
   ]
  },
  {
   "cell_type": "markdown",
   "metadata": {
    "collapsed": true
   },
   "source": [
    "- **Exercice**:"
   ]
  },
  {
   "cell_type": "markdown",
   "metadata": {},
   "source": [
    "A random variable $X$ can take one of the three values 0, 1 or 2 with positive probability of occurence for each. Determine the probability distribution of the random variable $X$ knowing that $E(X) = 1$ and $V(X) = 1/2$."
   ]
  },
  {
   "cell_type": "markdown",
   "metadata": {},
   "source": [
    "- **Solution**:"
   ]
  },
  {
   "cell_type": "markdown",
   "metadata": {
    "collapsed": true
   },
   "source": [
    "> ***1st:***\n",
    "<br><br>\n",
    "> \\begin{align*}\n",
    "   E(X)&= \\sum_{i=1}^n(x_i)\\times(p(x_i)) \\\\\\\\\n",
    "   &= 0 × p(x_1) + 1 \\times p(x_2) + 2 \\times p(x_3) \\\\\\\\\n",
    "   &= p(x_2) + 2 \\times p(x_3) \\\\\\\\\n",
    "   V(X)&= E(X^2) - (E(X))^2 \\\\\\\\\n",
    "   &= 0^2 \\times p(x_1) + 1^2 \\times p(x_2) + 2^2 \\times p(x_3) - (p(x_2) + 2 \\times p(x_3))^2 \\\\\\\\\n",
    "   &= p(x_2) + 2^2 \\times p(x_3) - 1\n",
    "\\end{align*}\n",
    "<br><br>\n",
    "> ***2nd:***\n",
    "<br><br>\n",
    "> \\begin{equation}\n",
    "       \\begin{cases}\n",
    "    p(x_2) = V(X) + 1 - 4 \\times p(x_3) \\\\\\\\\n",
    "    p(x_2) = E(X) - 2 \\times p(x_3)\n",
    "  \\end{cases}\n",
    "\\end{equation}\n",
    "<br><br>\n",
    "> \\begin{equation}\n",
    "       \\begin{cases}\n",
    "    p(x_3) = (V(X) + 1 - p(x_2)) \\div 4 \\\\\\\\ \n",
    "    p(x_3) = (E(X) - p(x_2)) \\div 2\n",
    "  \\end{cases}\n",
    "\\end{equation}\n",
    "<br><br>\n",
    "> \\begin{equation}\n",
    "       \\begin{cases}\n",
    "    p(x_3) = \\frac{V(X) + 1 - E(X)}{2} \\\\\\\\ \n",
    "    p(x_2) = 2 \\times E(X) - V(X) - 1 \\\\\\\\\n",
    "    p(x_1) = 1 - p(x_2) - p(x_3)\n",
    "  \\end{cases}\n",
    "\\end{equation}\n",
    "<br><br>\n",
    "> ***3rd:***\n",
    "<br><br>\n",
    "> \\begin{equation}\n",
    "       \\begin{cases}\n",
    "    V(X) = \\frac{1}{2} \\\\\\\\ \n",
    "    E(X) = 1\n",
    "  \\end{cases}\n",
    "\\end{equation}\n",
    "<br><br>\n",
    "> ***4th:***\n",
    "<br><br>\n",
    "> \\begin{equation}\n",
    "       \\begin{cases}\n",
    "    p(x_3) = \\frac{\\frac{1}{2} + 1 - 1}{2} = \\frac{1}{4}\\\\\\\\ \n",
    "    p(x_2) = 2 \\times 1 - \\frac{1}{2} - 1 = \\frac{1}{2} \\\\\\\\\n",
    "    p(x_1) = 1 - \\frac{1}{2} - \\frac{1}{4} = \\frac{1}{4}\n",
    "  \\end{cases}\n",
    "\\end{equation}\n",
    "\n",
    "\n",
    "\n",
    "\n",
    "\n",
    "\n"
   ]
  },
  {
   "cell_type": "markdown",
   "metadata": {},
   "source": [
    "> The **probability distribution table** of the random variable $X$:  "
   ]
  },
  {
   "cell_type": "markdown",
   "metadata": {},
   "source": [
    "\n",
    "| $X$ $=$ $x_i$        |  0  |  1  |  2  | Sum |\n",
    "| -----------  |-----|-----|-----|-----|\n",
    "| $P(X = x_i)$ | 1/4 | 1/2 | 1/4 |  1  |"
   ]
  },
  {
   "cell_type": "code",
   "execution_count": 11,
   "metadata": {},
   "outputs": [
    {
     "data": {
      "text/plain": [
       "(0.25, 0.5, 0.25)"
      ]
     },
     "execution_count": 11,
     "metadata": {},
     "output_type": "execute_result"
    }
   ],
   "source": [
    "def pd(ex, var): # Defining the function\n",
    "    p3 = (var+1-ex)/2 # p3: the probability of occurence of the random variable X when taking the value 2\n",
    "    p2 = 2 * ex - var - 1 # p2: the probability of occurence of the random variable X when taking the value 1\n",
    "    p1 = 1 - (p2 + p3) # p1: the probability of occurence of the random variable X when taking the value 0\n",
    "    return (p1, p2, p3)\n",
    "\n",
    "pd(1,1/2)"
   ]
  }
 ],
 "metadata": {
  "kernelspec": {
   "display_name": "Python 3",
   "language": "python",
   "name": "python3"
  },
  "language_info": {
   "codemirror_mode": {
    "name": "ipython",
    "version": 3
   },
   "file_extension": ".py",
   "mimetype": "text/x-python",
   "name": "python",
   "nbconvert_exporter": "python",
   "pygments_lexer": "ipython3",
   "version": "3.6.3"
  }
 },
 "nbformat": 4,
 "nbformat_minor": 2
}
